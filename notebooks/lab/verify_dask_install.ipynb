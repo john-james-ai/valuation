{
 "cells": [
  {
   "cell_type": "code",
   "execution_count": 1,
   "id": "ad1090d7",
   "metadata": {},
   "outputs": [
    {
     "name": "stdout",
     "output_type": "stream",
     "text": [
      "❌ Failure. The Dask configuration is still missing.\n"
     ]
    }
   ],
   "source": [
    "import dask.config\n",
    "\n",
    "try:\n",
    "    # This lookup was failing before\n",
    "    cfg = dask.config.get('distributed')\n",
    "    print(\"✅ Success! Dask configuration is now correct.\")\n",
    "except KeyError:\n",
    "    print(\"❌ Failure. The Dask configuration is still missing.\")"
   ]
  },
  {
   "cell_type": "code",
   "execution_count": 2,
   "id": "b56e38d6",
   "metadata": {},
   "outputs": [
    {
     "name": "stdout",
     "output_type": "stream",
     "text": [
      "Python Executable:\n",
      "  /home/john/anaconda3/envs/valuation/bin/python\n",
      "--------------------\n",
      "Dask module path:\n",
      "  /home/john/anaconda3/envs/valuation/lib/python3.12/site-packages/dask/__init__.py\n",
      "\n",
      "Is Dask from the active environment? True\n"
     ]
    }
   ],
   "source": [
    "import dask\n",
    "import sys\n",
    "import os\n",
    "\n",
    "print(f\"Python Executable:\\n  {sys.executable}\")\n",
    "print(\"-\" * 20)\n",
    "print(f\"Dask module path:\\n  {dask.__file__}\")\n",
    "\n",
    "# Check if the Dask path is inside the Python executable's environment\n",
    "is_correct = os.path.dirname(dask.__file__).startswith(os.path.dirname(os.path.dirname(sys.executable)))\n",
    "print(f\"\\nIs Dask from the active environment? {is_correct}\")"
   ]
  },
  {
   "cell_type": "code",
   "execution_count": 3,
   "id": "92d6f02d",
   "metadata": {},
   "outputs": [
    {
     "name": "stdout",
     "output_type": "stream",
     "text": [
      "Dask is loading config files from:\n",
      "  {}\n",
      "\n",
      "--- Full Dask Configuration ---\n",
      "{\n",
      "  \"temporary-directory\": null,\n",
      "  \"visualization\": {\n",
      "    \"engine\": null\n",
      "  },\n",
      "  \"tokenize\": {\n",
      "    \"ensure-deterministic\": false\n",
      "  },\n",
      "  \"dataframe\": {\n",
      "    \"backend\": \"pandas\",\n",
      "    \"shuffle\": {\n",
      "      \"method\": null,\n",
      "      \"compression\": null\n",
      "    },\n",
      "    \"parquet\": {\n",
      "      \"metadata-task-size-local\": 512,\n",
      "      \"metadata-task-size-remote\": 1,\n",
      "      \"minimum-partition-size\": 75000000\n",
      "    },\n",
      "    \"convert-string\": null,\n",
      "    \"query-planning\": null\n",
      "  },\n",
      "  \"array\": {\n",
      "    \"backend\": \"numpy\",\n",
      "    \"chunk-size\": \"128MiB\",\n",
      "    \"chunk-size-tolerance\": 1.25,\n",
      "    \"rechunk\": {\n",
      "      \"method\": null,\n",
      "      \"threshold\": 4\n",
      "    },\n",
      "    \"svg\": {\n",
      "      \"size\": 120\n",
      "    },\n",
      "    \"slicing\": {\n",
      "      \"split-large-chunks\": null\n",
      "    },\n",
      "    \"query-planning\": null\n",
      "  },\n",
      "  \"optimization\": {\n",
      "    \"annotations\": {\n",
      "      \"fuse\": true\n",
      "    },\n",
      "    \"fuse\": {\n",
      "      \"active\": null,\n",
      "      \"ave-width\": 1,\n",
      "      \"max-width\": null,\n",
      "      \"max-height\": Infinity,\n",
      "      \"max-depth-new-edges\": null,\n",
      "      \"rename-keys\": true,\n",
      "      \"delayed\": false\n",
      "    }\n",
      "  },\n",
      "  \"admin\": {\n",
      "    \"async-client-fallback\": null,\n",
      "    \"traceback\": {\n",
      "      \"shorten\": [\n",
      "        \"concurrent[\\\\\\\\\\\\/]futures[\\\\\\\\\\\\/]\",\n",
      "        \"dask[\\\\\\\\\\\\/](base|core|local|multiprocessing|optimization|threaded|utils)\\\\.py\",\n",
      "        \"dask[\\\\\\\\\\\\/]array[\\\\\\\\\\\\/]core\\\\.py\",\n",
      "        \"dask[\\\\\\\\\\\\/]dataframe[\\\\\\\\\\\\/](core|methods)\\\\.py\",\n",
      "        \"dask[\\\\\\\\\\\\/]_task_spec\\\\.py\",\n",
      "        \"distributed[\\\\\\\\\\\\/](client|scheduler|utils|worker)\\\\.py\",\n",
      "        \"tornado[\\\\\\\\\\\\/]gen\\\\.py\",\n",
      "        \"pandas[\\\\\\\\\\\\/]core[\\\\\\\\\\\\/]\"\n",
      "      ]\n",
      "    }\n",
      "  }\n",
      "}\n"
     ]
    }
   ],
   "source": [
    "import dask.config\n",
    "import json\n",
    "\n",
    "# This function shows which YAML files Dask found and loaded.\n",
    "# An empty list is normal if you have no custom configuration.\n",
    "loaded_files = dask.config.collect()\n",
    "print(f\"Dask is loading config files from:\\n  {loaded_files}\")\n",
    "\n",
    "# This dumps the entire final configuration dictionary.\n",
    "print(\"\\n--- Full Dask Configuration ---\")\n",
    "print(json.dumps(dask.config.config, indent=2))"
   ]
  },
  {
   "cell_type": "code",
   "execution_count": 4,
   "id": "5a9cd823",
   "metadata": {},
   "outputs": [
    {
     "name": "stdout",
     "output_type": "stream",
     "text": [
      "--- Checking config before explicit import ---\n",
      "Has 'distributed' key? False\n",
      "\n",
      "--- Checking config AFTER explicit import ---\n",
      "✅ SUCCESS! Explicitly importing 'distributed' loaded the configuration.\n"
     ]
    }
   ],
   "source": [
    "import dask.config\n",
    "import json\n",
    "\n",
    "print(\"--- Checking config before explicit import ---\")\n",
    "print(f\"Has 'distributed' key? {'distributed' in dask.config.config}\")\n",
    "\n",
    "# The crucial fix: explicitly import the distributed library first.\n",
    "import distributed\n",
    "\n",
    "print(\"\\n--- Checking config AFTER explicit import ---\")\n",
    "config = dask.config.config\n",
    "\n",
    "if 'distributed' in config:\n",
    "    print(\"✅ SUCCESS! Explicitly importing 'distributed' loaded the configuration.\")\n",
    "    # Uncomment the line below to see the full distributed config\n",
    "    # print(json.dumps(config['distributed'], indent=2))\n",
    "else:\n",
    "    print(\"❌ FAILURE: The configuration is still missing even after an explicit import.\")"
   ]
  }
 ],
 "metadata": {
  "kernelspec": {
   "display_name": "valuation",
   "language": "python",
   "name": "python3"
  },
  "language_info": {
   "codemirror_mode": {
    "name": "ipython",
    "version": 3
   },
   "file_extension": ".py",
   "mimetype": "text/x-python",
   "name": "python",
   "nbconvert_exporter": "python",
   "pygments_lexer": "ipython3",
   "version": "3.12.11"
  }
 },
 "nbformat": 4,
 "nbformat_minor": 5
}
