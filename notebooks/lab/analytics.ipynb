{
 "cells": [
  {
   "cell_type": "markdown",
   "id": "93092173",
   "metadata": {},
   "source": [
    "# Analytics"
   ]
  },
  {
   "cell_type": "code",
   "execution_count": 1,
   "id": "fad01230",
   "metadata": {},
   "outputs": [],
   "source": [
    "\n",
    "from valuation.analysis.analytics.yoy_sales import YoYSalesAnalytics\n",
    "from valuation.asset.identity.dataset import DatasetID\n",
    "from valuation.core.stage import DatasetStage\n",
    "from valuation.core.types import AssetType\n",
    "from valuation.infra.loggers import configure_logging\n",
    "from valuation.infra.store.dataset import DatasetStore\n",
    "import polars as pl\n",
    "pl.Config.set_tbl_hide_column_data_types(True)\n",
    "configure_logging()"
   ]
  },
  {
   "cell_type": "markdown",
   "id": "49c6c1e5",
   "metadata": {},
   "source": [
    "## Data"
   ]
  },
  {
   "cell_type": "code",
   "execution_count": 2,
   "id": "50211fcb",
   "metadata": {},
   "outputs": [
    {
     "ename": "FileNotFoundError",
     "evalue": "Passport file not found at '/home/john/projects/valuation/asset_store/prod/dataset/dataset_clean_sales_clean_passport.json'",
     "output_type": "error",
     "traceback": [
      "\u001b[31m---------------------------------------------------------------------------\u001b[39m",
      "\u001b[31mFileNotFoundError\u001b[39m                         Traceback (most recent call last)",
      "\u001b[36mCell\u001b[39m\u001b[36m \u001b[39m\u001b[32mIn[2]\u001b[39m\u001b[32m, line 3\u001b[39m\n\u001b[32m      1\u001b[39m store = DatasetStore()\n\u001b[32m      2\u001b[39m dataset_id = DatasetID(name=\u001b[33m\"\u001b[39m\u001b[33msales_clean\u001b[39m\u001b[33m\"\u001b[39m, stage=DatasetStage.CLEAN, asset_type=AssetType.DATASET)\n\u001b[32m----> \u001b[39m\u001b[32m3\u001b[39m passport = \u001b[43mstore\u001b[49m\u001b[43m.\u001b[49m\u001b[43mget_passport\u001b[49m\u001b[43m(\u001b[49m\u001b[43mdataset_id\u001b[49m\u001b[43m=\u001b[49m\u001b[43mdataset_id\u001b[49m\u001b[43m)\u001b[49m\n\u001b[32m      4\u001b[39m ds = store.get(passport=passport)\n\u001b[32m      5\u001b[39m ds.data.head()\n",
      "\u001b[36mFile \u001b[39m\u001b[32m~/projects/valuation/valuation/infra/store/dataset.py:142\u001b[39m, in \u001b[36mDatasetStore.get_passport\u001b[39m\u001b[34m(self, dataset_id)\u001b[39m\n\u001b[32m    139\u001b[39m passport_filepath = \u001b[38;5;28mself\u001b[39m._file_system.get_passport_filepath(dataset_id=dataset_id)  \u001b[38;5;66;03m# type: ignore\u001b[39;00m\n\u001b[32m    141\u001b[39m \u001b[38;5;28;01mif\u001b[39;00m \u001b[38;5;129;01mnot\u001b[39;00m passport_filepath.exists():\n\u001b[32m--> \u001b[39m\u001b[32m142\u001b[39m     \u001b[38;5;28;01mraise\u001b[39;00m \u001b[38;5;167;01mFileNotFoundError\u001b[39;00m(\u001b[33mf\u001b[39m\u001b[33m\"\u001b[39m\u001b[33mPassport file not found at \u001b[39m\u001b[33m'\u001b[39m\u001b[38;5;132;01m{\u001b[39;00mpassport_filepath\u001b[38;5;132;01m}\u001b[39;00m\u001b[33m'\u001b[39m\u001b[33m\"\u001b[39m)\n\u001b[32m    144\u001b[39m data = \u001b[38;5;28mself\u001b[39m._io.read(passport_filepath)\n\u001b[32m    145\u001b[39m \u001b[38;5;28;01mif\u001b[39;00m data \u001b[38;5;129;01mis\u001b[39;00m \u001b[38;5;28;01mNone\u001b[39;00m:\n",
      "\u001b[31mFileNotFoundError\u001b[39m: Passport file not found at '/home/john/projects/valuation/asset_store/prod/dataset/dataset_clean_sales_clean_passport.json'"
     ]
    }
   ],
   "source": [
    "store = DatasetStore()\n",
    "dataset_id = DatasetID(name=\"sales_clean\", stage=DatasetStage.CLEAN, asset_type=AssetType.DATASET)\n",
    "passport = store.get_passport(dataset_id=dataset_id)\n",
    "ds = store.get(passport=passport)\n",
    "ds.data.head()"
   ]
  },
  {
   "cell_type": "code",
   "execution_count": null,
   "id": "f852f71e",
   "metadata": {},
   "outputs": [],
   "source": [
    "analytics = YoYSalesAnalytics()\n",
    "result = analytics.analyze(df=ds.data)\n",
    "result"
   ]
  }
 ],
 "metadata": {
  "kernelspec": {
   "display_name": "valuation",
   "language": "python",
   "name": "python3"
  },
  "language_info": {
   "codemirror_mode": {
    "name": "ipython",
    "version": 3
   },
   "file_extension": ".py",
   "mimetype": "text/x-python",
   "name": "python",
   "nbconvert_exporter": "python",
   "pygments_lexer": "ipython3",
   "version": "3.12.7"
  }
 },
 "nbformat": 4,
 "nbformat_minor": 5
}
