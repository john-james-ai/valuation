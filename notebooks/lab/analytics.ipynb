{
 "cells": [
  {
   "cell_type": "markdown",
   "id": "93092173",
   "metadata": {},
   "source": [
    "# Analytics"
   ]
  },
  {
   "cell_type": "code",
   "execution_count": null,
   "id": "fad01230",
   "metadata": {},
   "outputs": [],
   "source": [
    "from valuation.analysis.analytics.yoy_sales import YoYSalesAnalytics\n",
    "from valuation.asset.identity.dataset import DatasetID\n",
    "from valuation.core.stage import DatasetStage\n",
    "from valuation.core.types import AssetType\n",
    "from valuation.infra.store.dataset import DatasetStore\n"
   ]
  },
  {
   "cell_type": "markdown",
   "id": "49c6c1e5",
   "metadata": {},
   "source": [
    "## Data"
   ]
  },
  {
   "cell_type": "code",
   "execution_count": null,
   "id": "50211fcb",
   "metadata": {},
   "outputs": [],
   "source": [
    "store = DatasetStore()\n",
    "dataset_id = DatasetID(name=\"sales_transform\", stage=DatasetStage.TRANSFORM, asset_type=AssetType.DATASET)\n",
    "passport = store.get_passport(dataset_id=dataset_id)\n",
    "ds = store.get(passport=passport)\n",
    "ds.data.head()"
   ]
  },
  {
   "cell_type": "code",
   "execution_count": null,
   "id": "f852f71e",
   "metadata": {},
   "outputs": [],
   "source": [
    "analytics = YoYSalesAnalytics()\n",
    "result = analytics.analyze(df=ds.data)\n",
    "result.head()"
   ]
  }
 ],
 "metadata": {
  "kernelspec": {
   "display_name": "valuation",
   "language": "python",
   "name": "python3"
  },
  "language_info": {
   "codemirror_mode": {
    "name": "ipython",
    "version": 3
   },
   "file_extension": ".py",
   "mimetype": "text/x-python",
   "name": "python",
   "nbconvert_exporter": "python",
   "pygments_lexer": "ipython3",
   "version": "3.12.7"
  }
 },
 "nbformat": 4,
 "nbformat_minor": 5
}
