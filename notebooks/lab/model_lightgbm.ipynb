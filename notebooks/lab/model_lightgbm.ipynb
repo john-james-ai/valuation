{
 "cells": [
  {
   "cell_type": "markdown",
   "id": "43cb608e",
   "metadata": {},
   "source": [
    "# LightGBM Model"
   ]
  },
  {
   "cell_type": "code",
   "execution_count": null,
   "id": "623f8049",
   "metadata": {},
   "outputs": [],
   "source": [
    "import pandas as pd\n",
    "import numpy as np\n",
    "from lightgbm import LGBMRegressor # The ML model\n",
    "from utilsforecast.losses import rmse, mae\n",
    "from mlforecast import MLForecast\n",
    "\n",
    "from hierarchicalforecast.core import HierarchicalReconciliation\n",
    "from hierarchicalforecast.methods import MinTrace\n",
    "from hierarchicalforecast.utils import aggregate\n",
    "\n",
    "from valuation.infra.store.dataset import DatasetStore\n",
    "from valuation.asset.identity.dataset import DatasetID\n",
    "from valuation.core.stage import DatasetStage\n",
    "from valuation.asset.identity.model import ModelPassport\n",
    "from valuation.asset.model.mlforecast import MLForecastModel\n",
    "from valuation.infra.store.model import ModelStore\n",
    "\n"
   ]
  },
  {
   "cell_type": "markdown",
   "id": "1bc1866f",
   "metadata": {},
   "source": [
    "## Model Parameters"
   ]
  },
  {
   "cell_type": "code",
   "execution_count": null,
   "id": "74bcf1c8",
   "metadata": {},
   "outputs": [],
   "source": [
    "N_ESTIMATORS = 100  # Number of trees for LightGBM\n",
    "NUM_CORES = 24\n",
    "SAFE_N_JOBS = max(1, NUM_CORES - 2)"
   ]
  },
  {
   "cell_type": "markdown",
   "id": "35da959f",
   "metadata": {},
   "source": [
    "## Training Data"
   ]
  },
  {
   "cell_type": "code",
   "execution_count": null,
   "id": "d9ce279e",
   "metadata": {},
   "outputs": [],
   "source": [
    "store = DatasetStore()\n",
    "dataset_id = DatasetID(name=\"train_val\", stage=DatasetStage.MODEL)\n",
    "passport = store.get_passport(dataset_id=dataset_id)\n",
    "ds = store.get(passport=passport)\n",
    "train_df = ds.data"
   ]
  },
  {
   "cell_type": "markdown",
   "id": "c9c54a5d",
   "metadata": {},
   "source": [
    "## Define the Model\n",
    "We instantate a LightGBM Model"
   ]
  },
  {
   "cell_type": "code",
   "execution_count": null,
   "id": "fb693aac",
   "metadata": {},
   "outputs": [],
   "source": [
    "\n",
    "models = [LGBMRegressor(\n",
    "    random_state=42, \n",
    "    n_estimators=N_ESTIMATORS, # 100 trees is a good, fast start\n",
    "    n_jobs=SAFE_N_JOBS # Use the 'safe' n_jobs we defined\n",
    ")]"
   ]
  },
  {
   "cell_type": "markdown",
   "id": "4e206bd5",
   "metadata": {},
   "source": [
    "## Feature Engineering"
   ]
  },
  {
   "cell_type": "code",
   "execution_count": null,
   "id": "b3e68cb8",
   "metadata": {},
   "outputs": [],
   "source": [
    "mf = MLForecast(\n",
    "    models=models,\n",
    "    freq=pd.offsets.Week(weekday=2), # Weekly frequency ending on Wednesday\n",
    "    # --- This is the automated feature engineering ---\n",
    "    lags=[52], # Use the value from 52 weeks ago as a feature\n",
    "    # lag_transforms={\n",
    "    #     52: [ # On the 52-week lag, calculate...\n",
    "    #         (np.mean, 4), # 4-week rolling avg of the 52-week lag\n",
    "    #     ],\n",
    "    # },\n",
    "    date_features=['week', 'month', 'year'] \n",
    ")"
   ]
  },
  {
   "cell_type": "markdown",
   "id": "88113e58",
   "metadata": {},
   "source": [
    "## Blocked Cross-Validation\n",
    "This generates the unreconciled forecasts for each fold. We must add fitted=True to get the in-sample forecasts for the reconciler."
   ]
  },
  {
   "cell_type": "code",
   "execution_count": null,
   "id": "be524319",
   "metadata": {},
   "outputs": [],
   "source": [
    "cv_df_base = mf.cross_validation(\n",
    "    df=train_df,\n",
    "    h=52,\n",
    "    n_windows=5,\n",
    "    fitted=True\n",
    ")"
   ]
  },
  {
   "cell_type": "markdown",
   "id": "9337fa88",
   "metadata": {},
   "source": [
    "## Create and Persist the Model Object"
   ]
  },
  {
   "cell_type": "code",
   "execution_count": null,
   "id": "02b04f59",
   "metadata": {},
   "outputs": [],
   "source": [
    "passport = ModelPassport.create(\n",
    "    name=f\"lightgbm_model_{N_ESTIMATORS}_trees\",\n",
    "    description=f\"LightGBM model with {N_ESTIMATORS} trees and basic feature engineering\",\n",
    "    )\n",
    "model = MLForecastModel(passport=passport,model=mf)\n",
    "model_store = ModelStore()\n",
    "model_store.add(model=model)\n",
    "model.save()"
   ]
  },
  {
   "cell_type": "markdown",
   "id": "6e858377",
   "metadata": {},
   "source": [
    "## Create Summing Matrix and Tags"
   ]
  },
  {
   "cell_type": "code",
   "execution_count": null,
   "id": "b9919aa4",
   "metadata": {},
   "outputs": [],
   "source": [
    "hierarchy_df = train_df[['unique_id', 'ds']].drop_duplicates()\n",
    "hierarchy_df['store'] = hierarchy_df['unique_id'].apply(lambda s: s.split('_')[0])\n",
    "hierarchy_df['category'] = hierarchy_df['unique_id'].apply(lambda s: s.split('_')[1])\n",
    "spec = [['store'], ['category'], ['store', 'category']]\n",
    "_, S_df, tags = aggregate(df=hierarchy_df, spec=spec)"
   ]
  },
  {
   "cell_type": "markdown",
   "id": "75bc6e33",
   "metadata": {},
   "source": [
    "## Reconciler for CV Forecasts"
   ]
  },
  {
   "cell_type": "code",
   "execution_count": null,
   "id": "2e557d87",
   "metadata": {},
   "outputs": [],
   "source": [
    "reconcilers = [MinTrace(method='mint_ols')]\n",
    "hrec = HierarchicalReconciliation(reconcilers=reconcilers)\n",
    "cv_df_reconciled = hrec.reconcile(\n",
    "    Y_hat_df=cv_df_base,\n",
    "    Y_df=cv_df_base,\n",
    "    S_df=S_df,\n",
    "    tags=tags\n",
    ")"
   ]
  },
  {
   "cell_type": "markdown",
   "id": "f1f42215",
   "metadata": {},
   "source": [
    "## Evaluate CV Performance"
   ]
  },
  {
   "cell_type": "code",
   "execution_count": null,
   "id": "3ad9ba1c",
   "metadata": {},
   "outputs": [],
   "source": [
    "actuals_df = cv_df_base[['unique_id', 'ds', 'cutoff', 'y']]\n",
    "cv_df_eval = cv_df_reconciled.merge(actuals_df, on=['unique_id', 'ds', 'cutoff'])\n",
    "\n",
    "performance = cv_df_eval.groupby('model').agg(\n",
    "    RMSE=pd.NamedAgg(column='y', aggfunc=rmse),\n",
    "    MAE=pd.NamedAgg(column='y', aggfunc=mae)\n",
    ")\n",
    "print(\"--- Cross-Validation Performance ---\")\n",
    "print(performance)"
   ]
  }
 ],
 "metadata": {
  "kernelspec": {
   "display_name": "valuation",
   "language": "python",
   "name": "python3"
  },
  "language_info": {
   "codemirror_mode": {
    "name": "ipython",
    "version": 3
   },
   "file_extension": ".py",
   "mimetype": "text/x-python",
   "name": "python",
   "nbconvert_exporter": "python",
   "pygments_lexer": "ipython3",
   "version": "3.12.11"
  }
 },
 "nbformat": 4,
 "nbformat_minor": 5
}
