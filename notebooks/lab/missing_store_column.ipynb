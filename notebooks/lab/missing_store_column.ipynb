{
 "cells": [
  {
   "cell_type": "code",
   "execution_count": 1,
   "id": "1854f83a",
   "metadata": {},
   "outputs": [
    {
     "name": "stdout",
     "output_type": "stream",
     "text": [
      "--- Inspecting headers in: data/raw/wbat.zip ---\n",
      "\n",
      "--- Reading internal file: wbat.csv ---\n",
      "df.columns: ['UPC', 'STORE', 'WEEK', 'MOVE', 'QTY', 'PRICE', 'SALE', 'PROFIT', 'OK', 'PRICE_HEX', 'PROFIT_HEX']\n",
      "Raw repr(df.columns): Index(['UPC', 'STORE', 'WEEK', 'MOVE', 'QTY', 'PRICE', 'SALE', 'PROFIT', 'OK',\n",
      "       'PRICE_HEX', 'PROFIT_HEX'],\n",
      "      dtype='object')\n",
      "\n",
      "Inspecting column 'SALE':\n",
      "Character Analysis (char, unicode_point): [('S', 83), ('A', 65), ('L', 76), ('E', 69)]\n"
     ]
    }
   ],
   "source": [
    "import pandas as pd\n",
    "import zipfile\n",
    "\n",
    "# --- CONFIGURE THIS ---\n",
    "ZIP_FILE_PATH = \"data/raw/wbat.zip\"\n",
    "\n",
    "# --- RUN THE TEST ---\n",
    "print(f\"--- Inspecting headers in: {ZIP_FILE_PATH} ---\")\n",
    "\n",
    "with zipfile.ZipFile(ZIP_FILE_PATH, \"r\") as zip_ref:\n",
    "    for internal_filepath in zip_ref.namelist():\n",
    "        if internal_filepath.lower().endswith('.csv'):\n",
    "            print(f\"\\n--- Reading internal file: {internal_filepath} ---\")\n",
    "            with zip_ref.open(internal_filepath) as internal_file:\n",
    "                df = pd.read_csv(internal_file, nrows=10) # Read a few rows\n",
    "                \n",
    "                print(f\"df.columns: {list(df.columns)}\")\n",
    "                \n",
    "                # The critical test: Show the raw representation of the columns\n",
    "                print(f\"Raw repr(df.columns): {repr(df.columns)}\")\n",
    "\n",
    "                # Find the column that looks like 'SALE' and inspect it\n",
    "                for col in df.columns:\n",
    "                    if 'SALE' in col.upper():\n",
    "                        print(f\"\\nInspecting column '{col}':\")\n",
    "                        # This will print the Unicode code point for each character\n",
    "                        char_analysis = [(char, ord(char)) for char in col]\n",
    "                        print(f\"Character Analysis (char, unicode_point): {char_analysis}\")\n",
    "                break # Stop after the first CSV"
   ]
  }
 ],
 "metadata": {
  "kernelspec": {
   "display_name": "valuation",
   "language": "python",
   "name": "python3"
  },
  "language_info": {
   "codemirror_mode": {
    "name": "ipython",
    "version": 3
   },
   "file_extension": ".py",
   "mimetype": "text/x-python",
   "name": "python",
   "nbconvert_exporter": "python",
   "pygments_lexer": "ipython3",
   "version": "3.12.11"
  }
 },
 "nbformat": 4,
 "nbformat_minor": 5
}
