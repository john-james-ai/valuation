{
 "cells": [
  {
   "cell_type": "markdown",
   "id": "d0cdc326",
   "metadata": {},
   "source": [
    "# Dataset Store"
   ]
  },
  {
   "cell_type": "code",
   "execution_count": null,
   "id": "41e2a3f0",
   "metadata": {},
   "outputs": [],
   "source": [
    "from valuation.infra.store.fast.dataset import DatasetStore\n",
    "from valuation.core.stage import DatasetStage\n",
    "from valuation.asset.identity.dataset import DatasetID\n",
    "from valuation.asset.dataset.fast.dataset import Dataset\n",
    "from valuation.asset.identity.dataset import DatasetPassport\n",
    "from valuation.core.file import FileFormat\n"
   ]
  },
  {
   "cell_type": "code",
   "execution_count": 3,
   "id": "1933380a",
   "metadata": {},
   "outputs": [],
   "source": [
    "store = DatasetStore()"
   ]
  },
  {
   "cell_type": "code",
   "execution_count": 4,
   "id": "cd46501d",
   "metadata": {},
   "outputs": [
    {
     "ename": "FileNotFoundError",
     "evalue": "Passport file not found at '/home/john/projects/valuation/asset_store/dataset/prod/dataset_sales_clean_sales_clean_passport.json'",
     "output_type": "error",
     "traceback": [
      "\u001b[31m---------------------------------------------------------------------------\u001b[39m",
      "\u001b[31mFileNotFoundError\u001b[39m                         Traceback (most recent call last)",
      "\u001b[36mCell\u001b[39m\u001b[36m \u001b[39m\u001b[32mIn[4]\u001b[39m\u001b[32m, line 2\u001b[39m\n\u001b[32m      1\u001b[39m dataset_id = DatasetID(name=\u001b[33m\"\u001b[39m\u001b[33msales_clean\u001b[39m\u001b[33m\"\u001b[39m, stage=DatasetStage.CLEAN)\n\u001b[32m----> \u001b[39m\u001b[32m2\u001b[39m passport = \u001b[43mstore\u001b[49m\u001b[43m.\u001b[49m\u001b[43mget_passport\u001b[49m\u001b[43m(\u001b[49m\u001b[43mdataset_id\u001b[49m\u001b[43m=\u001b[49m\u001b[43mdataset_id\u001b[49m\u001b[43m)\u001b[49m\n\u001b[32m      3\u001b[39m ds = store.get(passport=passport)\n\u001b[32m      4\u001b[39m df = ds.data\n",
      "\u001b[36mFile \u001b[39m\u001b[32m~/projects/valuation/valuation/infra/store/dataset.py:142\u001b[39m, in \u001b[36mDatasetStore.get_passport\u001b[39m\u001b[34m(self, dataset_id)\u001b[39m\n\u001b[32m    139\u001b[39m passport_filepath = \u001b[38;5;28mself\u001b[39m._file_system.get_passport_filepath(dataset_id=dataset_id)  \u001b[38;5;66;03m# type: ignore\u001b[39;00m\n\u001b[32m    141\u001b[39m \u001b[38;5;28;01mif\u001b[39;00m \u001b[38;5;129;01mnot\u001b[39;00m passport_filepath.exists():\n\u001b[32m--> \u001b[39m\u001b[32m142\u001b[39m     \u001b[38;5;28;01mraise\u001b[39;00m \u001b[38;5;167;01mFileNotFoundError\u001b[39;00m(\u001b[33mf\u001b[39m\u001b[33m\"\u001b[39m\u001b[33mPassport file not found at \u001b[39m\u001b[33m'\u001b[39m\u001b[38;5;132;01m{\u001b[39;00mpassport_filepath\u001b[38;5;132;01m}\u001b[39;00m\u001b[33m'\u001b[39m\u001b[33m\"\u001b[39m)\n\u001b[32m    144\u001b[39m data = \u001b[38;5;28mself\u001b[39m._io.read(passport_filepath)\n\u001b[32m    145\u001b[39m \u001b[38;5;28;01mif\u001b[39;00m data \u001b[38;5;129;01mis\u001b[39;00m \u001b[38;5;28;01mNone\u001b[39;00m:\n",
      "\u001b[31mFileNotFoundError\u001b[39m: Passport file not found at '/home/john/projects/valuation/asset_store/dataset/prod/dataset_sales_clean_sales_clean_passport.json'"
     ]
    }
   ],
   "source": [
    "dataset_id = DatasetID(name=\"sales_clean\", stage=DatasetStage.CLEAN)\n",
    "passport = store.get_passport(dataset_id=dataset_id)\n",
    "ds = store.get(passport=passport)\n",
    "df = ds.data\n",
    "df.head()\n",
    "df[df['revenue'] == 0]"
   ]
  },
  {
   "cell_type": "code",
   "execution_count": 5,
   "id": "7a50ac2a",
   "metadata": {},
   "outputs": [
    {
     "ename": "NameError",
     "evalue": "name 'df' is not defined",
     "output_type": "error",
     "traceback": [
      "\u001b[31m---------------------------------------------------------------------------\u001b[39m",
      "\u001b[31mNameError\u001b[39m                                 Traceback (most recent call last)",
      "\u001b[36mCell\u001b[39m\u001b[36m \u001b[39m\u001b[32mIn[5]\u001b[39m\u001b[32m, line 1\u001b[39m\n\u001b[32m----> \u001b[39m\u001b[32m1\u001b[39m \u001b[43mdf\u001b[49m[df[\u001b[33m'\u001b[39m\u001b[33mrevenue\u001b[39m\u001b[33m'\u001b[39m] == \u001b[32m0\u001b[39m].shape[\u001b[32m0\u001b[39m] / df.shape[\u001b[32m0\u001b[39m]\n",
      "\u001b[31mNameError\u001b[39m: name 'df' is not defined"
     ]
    }
   ],
   "source": [
    "df[df['revenue'] == 0].shape[0] / df.shape[0]"
   ]
  },
  {
   "cell_type": "code",
   "execution_count": null,
   "id": "4eb2284e",
   "metadata": {},
   "outputs": [
    {
     "ename": "DatasetExistsError",
     "evalue": "Dataset file /home/john/projects/valuation/data/prod/final/sales/sales_1990-1996_final.csv already exists. Cannot initialize with data to avoid overwriting.",
     "output_type": "error",
     "traceback": [
      "\u001b[31m---------------------------------------------------------------------------\u001b[39m",
      "\u001b[31mDatasetExistsError\u001b[39m                        Traceback (most recent call last)",
      "\u001b[36mCell\u001b[39m\u001b[36m \u001b[39m\u001b[32mIn[14]\u001b[39m\u001b[32m, line 9\u001b[39m\n\u001b[32m      1\u001b[39m passport_final = DatasetPassport.create(\n\u001b[32m      2\u001b[39m     name=\u001b[33m\"\u001b[39m\u001b[33msales_1990-1996_final\u001b[39m\u001b[33m\"\u001b[39m,\n\u001b[32m      3\u001b[39m     description=\u001b[33m\"\u001b[39m\u001b[33mFinal sales dataset for years 1990-1996\u001b[39m\u001b[33m\"\u001b[39m,\n\u001b[32m   (...)\u001b[39m\u001b[32m      7\u001b[39m     read_kwargs={\u001b[33m\"\u001b[39m\u001b[33mdtype\u001b[39m\u001b[33m\"\u001b[39m: {\u001b[33m\"\u001b[39m\u001b[33mstore\u001b[39m\u001b[33m\"\u001b[39m: \u001b[33m\"\u001b[39m\u001b[33mInt64\u001b[39m\u001b[33m\"\u001b[39m, \u001b[33m\"\u001b[39m\u001b[33mcategory\u001b[39m\u001b[33m\"\u001b[39m: \u001b[33m\"\u001b[39m\u001b[33mstring\u001b[39m\u001b[33m\"\u001b[39m, \u001b[33m\"\u001b[39m\u001b[33mweek\u001b[39m\u001b[33m\"\u001b[39m: \u001b[33m\"\u001b[39m\u001b[33mInt64\u001b[39m\u001b[33m\"\u001b[39m, \u001b[33m\"\u001b[39m\u001b[33mrevenue\u001b[39m\u001b[33m\"\u001b[39m: \u001b[33m\"\u001b[39m\u001b[33mFloat64\u001b[39m\u001b[33m\"\u001b[39m, \u001b[33m\"\u001b[39m\u001b[33myear\u001b[39m\u001b[33m\"\u001b[39m: \u001b[33m\"\u001b[39m\u001b[33mInt64\u001b[39m\u001b[33m\"\u001b[39m, \u001b[33m\"\u001b[39m\u001b[33mstart\u001b[39m\u001b[33m\"\u001b[39m: \u001b[33m\"\u001b[39m\u001b[33mdatetime64[ns]\u001b[39m\u001b[33m\"\u001b[39m, \u001b[33m\"\u001b[39m\u001b[33mend\u001b[39m\u001b[33m\"\u001b[39m: \u001b[33m\"\u001b[39m\u001b[33mdatetime64[ns]\u001b[39m\u001b[33m\"\u001b[39m, \u001b[33m\"\u001b[39m\u001b[33mgross_profit_margin\u001b[39m\u001b[33m\"\u001b[39m: \u001b[33m\"\u001b[39m\u001b[33mFloat64\u001b[39m\u001b[33m\"\u001b[39m}},\n\u001b[32m      8\u001b[39m     )\n\u001b[32m----> \u001b[39m\u001b[32m9\u001b[39m ds = \u001b[43mDataset\u001b[49m\u001b[43m(\u001b[49m\u001b[43mpassport\u001b[49m\u001b[43m=\u001b[49m\u001b[43mpassport_final\u001b[49m\u001b[43m,\u001b[49m\u001b[43m \u001b[49m\u001b[43mdf\u001b[49m\u001b[43m=\u001b[49m\u001b[43mdf\u001b[49m\u001b[43m)\u001b[49m\n\u001b[32m     10\u001b[39m store.add(dataset=ds) \n\u001b[32m     11\u001b[39m store.exists(dataset_id=passport_final.id)\n",
      "\u001b[36mFile \u001b[39m\u001b[32m~/projects/valuation/valuation/asset/dataset/base.py:259\u001b[39m, in \u001b[36mDataset.__init__\u001b[39m\u001b[34m(self, passport, df, io)\u001b[39m\n\u001b[32m    256\u001b[39m \u001b[38;5;28mself\u001b[39m._asset_filepath = \u001b[38;5;28;01mNone\u001b[39;00m\n\u001b[32m    257\u001b[39m \u001b[38;5;28mself\u001b[39m._file_system = DatasetFileSystem()\n\u001b[32m--> \u001b[39m\u001b[32m259\u001b[39m \u001b[38;5;28;43mself\u001b[39;49m\u001b[43m.\u001b[49m\u001b[43m_validate\u001b[49m\u001b[43m(\u001b[49m\u001b[43m)\u001b[49m\n\u001b[32m    260\u001b[39m \u001b[38;5;28mself\u001b[39m._initialize()\n",
      "\u001b[36mFile \u001b[39m\u001b[32m~/projects/valuation/valuation/asset/dataset/base.py:418\u001b[39m, in \u001b[36mDataset._validate\u001b[39m\u001b[34m(self)\u001b[39m\n\u001b[32m    416\u001b[39m \u001b[38;5;66;03m# If self._df is provided, yet the file exists, raise a FileExistsError to avoid overwriting.\u001b[39;00m\n\u001b[32m    417\u001b[39m \u001b[38;5;28;01mif\u001b[39;00m \u001b[38;5;129;01mnot\u001b[39;00m \u001b[38;5;28mself\u001b[39m._df.empty \u001b[38;5;129;01mand\u001b[39;00m \u001b[38;5;28mself\u001b[39m._asset_filepath.exists():\n\u001b[32m--> \u001b[39m\u001b[32m418\u001b[39m     \u001b[38;5;28;01mraise\u001b[39;00m DatasetExistsError(\n\u001b[32m    419\u001b[39m         \u001b[33mf\u001b[39m\u001b[33m\"\u001b[39m\u001b[33mDataset file \u001b[39m\u001b[38;5;132;01m{\u001b[39;00m\u001b[38;5;28mself\u001b[39m._asset_filepath\u001b[38;5;132;01m}\u001b[39;00m\u001b[33m already exists. Cannot initialize with data to avoid overwriting.\u001b[39m\u001b[33m\"\u001b[39m\n\u001b[32m    420\u001b[39m     )\n\u001b[32m    421\u001b[39m \u001b[38;5;66;03m# If self._df is empty and no file exists, raise an exception.\u001b[39;00m\n\u001b[32m    422\u001b[39m \u001b[38;5;28;01mif\u001b[39;00m \u001b[38;5;28mself\u001b[39m._df.empty \u001b[38;5;129;01mand\u001b[39;00m \u001b[38;5;129;01mnot\u001b[39;00m \u001b[38;5;28mself\u001b[39m._asset_filepath.exists():\n",
      "\u001b[31mDatasetExistsError\u001b[39m: Dataset file /home/john/projects/valuation/data/prod/final/sales/sales_1990-1996_final.csv already exists. Cannot initialize with data to avoid overwriting."
     ]
    }
   ],
   "source": [
    "\n",
    "\n",
    "passport_final = DatasetPassport.create(\n",
    "    name=\"sales_1990-1996_final\",\n",
    "    description=\"Final sales dataset for years 1990-1996\",\n",
    "    stage=DatasetStage.FINAL,\n",
    "    file_format=FileFormat.CSV,\n",
    "    read_kwargs={\"dtype\": {\"store\": \"Int64\", \"category\": \"string\", \"week\": \"Int64\", \"revenue\": \"Float64\", \"year\": \"Int64\", \"start\": \"datetime64[ns]\", \"end\": \"datetime64[ns]\", \"gross_profit_margin\": \"Float64\"}},\n",
    "    )\n",
    "ds = Dataset(passport=passport_final, df=df)\n",
    "store.add(dataset=ds) \n",
    "store.exists(dataset_id=passport_final.id)"
   ]
  }
 ],
 "metadata": {
  "kernelspec": {
   "display_name": "valuation",
   "language": "python",
   "name": "python3"
  },
  "language_info": {
   "codemirror_mode": {
    "name": "ipython",
    "version": 3
   },
   "file_extension": ".py",
   "mimetype": "text/x-python",
   "name": "python",
   "nbconvert_exporter": "python",
   "pygments_lexer": "ipython3",
   "version": "3.12.7"
  }
 },
 "nbformat": 4,
 "nbformat_minor": 5
}
