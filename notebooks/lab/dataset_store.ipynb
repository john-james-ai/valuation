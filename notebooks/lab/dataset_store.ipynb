{
 "cells": [
  {
   "cell_type": "markdown",
   "id": "d0cdc326",
   "metadata": {},
   "source": [
    "# Dataset Store"
   ]
  },
  {
   "cell_type": "code",
   "execution_count": 1,
   "id": "41e2a3f0",
   "metadata": {},
   "outputs": [],
   "source": [
    "from valuation.infra.store.dataset import DatasetStore\n",
    "from valuation.core.entity import Entity\n",
    "from valuation.core.stage import DatasetStage\n",
    "from valuation.asset.identity.dataset import DatasetID\n",
    "\n"
   ]
  },
  {
   "cell_type": "code",
   "execution_count": 2,
   "id": "1933380a",
   "metadata": {},
   "outputs": [],
   "source": [
    "store = DatasetStore()\n",
    "#store.registry"
   ]
  },
  {
   "cell_type": "code",
   "execution_count": 3,
   "id": "cd46501d",
   "metadata": {},
   "outputs": [
    {
     "name": "stderr",
     "output_type": "stream",
     "text": [
      "\u001b[32m2025-10-23 05:32:44.816\u001b[0m | \u001b[34m\u001b[1mDEBUG   \u001b[0m | \u001b[36mvaluation.asset.dataset.base\u001b[0m:\u001b[36mload\u001b[0m:\u001b[36m337\u001b[0m - \u001b[34m\u001b[1mDataset Dataset sales_transform of the transform stage created on 2025-10-22 at 22:06 loaded.\u001b[0m\n"
     ]
    },
    {
     "data": {
      "text/html": [
       "<div>\n",
       "<style scoped>\n",
       "    .dataframe tbody tr th:only-of-type {\n",
       "        vertical-align: middle;\n",
       "    }\n",
       "\n",
       "    .dataframe tbody tr th {\n",
       "        vertical-align: top;\n",
       "    }\n",
       "\n",
       "    .dataframe thead th {\n",
       "        text-align: right;\n",
       "    }\n",
       "</style>\n",
       "<table border=\"1\" class=\"dataframe\">\n",
       "  <thead>\n",
       "    <tr style=\"text-align: right;\">\n",
       "      <th></th>\n",
       "      <th>store</th>\n",
       "      <th>category</th>\n",
       "      <th>week</th>\n",
       "      <th>revenue</th>\n",
       "      <th>gross_profit</th>\n",
       "      <th>year</th>\n",
       "      <th>start</th>\n",
       "      <th>end</th>\n",
       "      <th>gross_margin_pct</th>\n",
       "    </tr>\n",
       "  </thead>\n",
       "  <tbody>\n",
       "    <tr>\n",
       "      <th>0</th>\n",
       "      <td>2</td>\n",
       "      <td>Analgesics</td>\n",
       "      <td>1</td>\n",
       "      <td>3021.36</td>\n",
       "      <td>853.272345</td>\n",
       "      <td>1989</td>\n",
       "      <td>1989-09-14</td>\n",
       "      <td>1989-09-20</td>\n",
       "      <td>28.241333</td>\n",
       "    </tr>\n",
       "    <tr>\n",
       "      <th>1</th>\n",
       "      <td>2</td>\n",
       "      <td>Analgesics</td>\n",
       "      <td>2</td>\n",
       "      <td>2531.97</td>\n",
       "      <td>710.912043</td>\n",
       "      <td>1989</td>\n",
       "      <td>1989-09-21</td>\n",
       "      <td>1989-09-27</td>\n",
       "      <td>28.077428</td>\n",
       "    </tr>\n",
       "    <tr>\n",
       "      <th>2</th>\n",
       "      <td>2</td>\n",
       "      <td>Analgesics</td>\n",
       "      <td>3</td>\n",
       "      <td>2544.57</td>\n",
       "      <td>755.390445</td>\n",
       "      <td>1989</td>\n",
       "      <td>1989-09-28</td>\n",
       "      <td>1989-10-04</td>\n",
       "      <td>29.686369</td>\n",
       "    </tr>\n",
       "    <tr>\n",
       "      <th>3</th>\n",
       "      <td>2</td>\n",
       "      <td>Analgesics</td>\n",
       "      <td>4</td>\n",
       "      <td>2407.56</td>\n",
       "      <td>696.399927</td>\n",
       "      <td>1989</td>\n",
       "      <td>1989-10-05</td>\n",
       "      <td>1989-10-11</td>\n",
       "      <td>28.925548</td>\n",
       "    </tr>\n",
       "    <tr>\n",
       "      <th>4</th>\n",
       "      <td>2</td>\n",
       "      <td>Analgesics</td>\n",
       "      <td>5</td>\n",
       "      <td>2077.71</td>\n",
       "      <td>548.648040</td>\n",
       "      <td>1989</td>\n",
       "      <td>1989-10-12</td>\n",
       "      <td>1989-10-18</td>\n",
       "      <td>26.406382</td>\n",
       "    </tr>\n",
       "  </tbody>\n",
       "</table>\n",
       "</div>"
      ],
      "text/plain": [
       "   store    category  week  revenue  gross_profit  year      start        end  \\\n",
       "0      2  Analgesics     1  3021.36    853.272345  1989 1989-09-14 1989-09-20   \n",
       "1      2  Analgesics     2  2531.97    710.912043  1989 1989-09-21 1989-09-27   \n",
       "2      2  Analgesics     3  2544.57    755.390445  1989 1989-09-28 1989-10-04   \n",
       "3      2  Analgesics     4  2407.56    696.399927  1989 1989-10-05 1989-10-11   \n",
       "4      2  Analgesics     5  2077.71    548.648040  1989 1989-10-12 1989-10-18   \n",
       "\n",
       "   gross_margin_pct  \n",
       "0         28.241333  \n",
       "1         28.077428  \n",
       "2         29.686369  \n",
       "3         28.925548  \n",
       "4         26.406382  "
      ]
     },
     "execution_count": 3,
     "metadata": {},
     "output_type": "execute_result"
    }
   ],
   "source": [
    "dataset_id = DatasetID(name=\"sales_transform\", stage=DatasetStage.TRANSFORM)\n",
    "passport = store.get_passport(dataset_id=dataset_id)\n",
    "ds = store.get(passport=passport)\n",
    "ds.data.head()"
   ]
  }
 ],
 "metadata": {
  "kernelspec": {
   "display_name": "valuation",
   "language": "python",
   "name": "python3"
  },
  "language_info": {
   "codemirror_mode": {
    "name": "ipython",
    "version": 3
   },
   "file_extension": ".py",
   "mimetype": "text/x-python",
   "name": "python",
   "nbconvert_exporter": "python",
   "pygments_lexer": "ipython3",
   "version": "3.12.11"
  }
 },
 "nbformat": 4,
 "nbformat_minor": 5
}
