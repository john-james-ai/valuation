{
 "cells": [
  {
   "cell_type": "markdown",
   "id": "d0cdc326",
   "metadata": {},
   "source": [
    "# Dataset Store"
   ]
  },
  {
   "cell_type": "code",
   "execution_count": 1,
   "id": "41e2a3f0",
   "metadata": {},
   "outputs": [],
   "source": [
    "from valuation.infra.store.dataset import DatasetStore\n",
    "from valuation.core.entity import Entity\n",
    "from valuation.core.stage import DatasetStage\n"
   ]
  },
  {
   "cell_type": "code",
   "execution_count": 2,
   "id": "1933380a",
   "metadata": {},
   "outputs": [
    {
     "data": {
      "text/plain": [
       "PosixPath('/home/john/projects/valuation/data/prod/clean/sales')"
      ]
     },
     "execution_count": 2,
     "metadata": {},
     "output_type": "execute_result"
    }
   ],
   "source": [
    "\n",
    "\n",
    "store = DatasetStore()\n",
    "store.file_system.get_stage_entity_location(stage=DatasetStage.CLEAN, entity=Entity.SALES)"
   ]
  }
 ],
 "metadata": {
  "kernelspec": {
   "display_name": "valuation",
   "language": "python",
   "name": "python3"
  },
  "language_info": {
   "codemirror_mode": {
    "name": "ipython",
    "version": 3
   },
   "file_extension": ".py",
   "mimetype": "text/x-python",
   "name": "python",
   "nbconvert_exporter": "python",
   "pygments_lexer": "ipython3",
   "version": "3.12.11"
  }
 },
 "nbformat": 4,
 "nbformat_minor": 5
}
